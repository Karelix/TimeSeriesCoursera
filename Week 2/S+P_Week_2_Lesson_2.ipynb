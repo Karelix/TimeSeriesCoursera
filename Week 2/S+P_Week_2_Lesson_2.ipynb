{
  "nbformat": 4,
  "nbformat_minor": 0,
  "metadata": {
    "colab": {
      "name": "S+P Week 2 Lesson 2.ipynb",
      "provenance": [],
      "toc_visible": true
    },
    "kernelspec": {
      "display_name": "Python 3",
      "name": "python3"
    },
    "accelerator": "GPU"
  },
  "cells": [
    {
      "cell_type": "code",
      "metadata": {
        "id": "zX4Kg8DUTKWO"
      },
      "source": [
        "#@title Licensed under the Apache License, Version 2.0 (the \"License\");\n",
        "# you may not use this file except in compliance with the License.\n",
        "# You may obtain a copy of the License at\n",
        "#\n",
        "# https://www.apache.org/licenses/LICENSE-2.0\n",
        "#\n",
        "# Unless required by applicable law or agreed to in writing, software\n",
        "# distributed under the License is distributed on an \"AS IS\" BASIS,\n",
        "# WITHOUT WARRANTIES OR CONDITIONS OF ANY KIND, either express or implied.\n",
        "# See the License for the specific language governing permissions and\n",
        "# limitations under the License."
      ],
      "execution_count": null,
      "outputs": []
    },
    {
      "cell_type": "markdown",
      "metadata": {
        "id": "view-in-github"
      },
      "source": [
        "<a href=\"https://colab.research.google.com/github/lmoroney/dlaicourse/blob/master/TensorFlow%20In%20Practice/Course%204%20-%20S%2BP/S%2BP%20Week%202%20Lesson%202.ipynb\" target=\"_parent\"><img src=\"https://colab.research.google.com/assets/colab-badge.svg\" alt=\"Open In Colab\"/></a>"
      ]
    },
    {
      "cell_type": "code",
      "metadata": {
        "id": "-pwam8szRReT"
      },
      "source": [
        "try:\n",
        "  # %tensorflow_version only exists in Colab.\n",
        "  %tensorflow_version 2.x\n",
        "except Exception:\n",
        "  pass"
      ],
      "execution_count": 1,
      "outputs": []
    },
    {
      "cell_type": "code",
      "metadata": {
        "colab": {
          "base_uri": "https://localhost:8080/"
        },
        "id": "BOjujz601HcS",
        "outputId": "65de685f-7b8a-4b88-96ca-cf89850b412e"
      },
      "source": [
        "import tensorflow as tf\n",
        "import numpy as np\n",
        "import matplotlib.pyplot as plt\n",
        "print(tf.__version__)"
      ],
      "execution_count": 2,
      "outputs": [
        {
          "output_type": "stream",
          "text": [
            "2.4.0\n"
          ],
          "name": "stdout"
        }
      ]
    },
    {
      "cell_type": "code",
      "metadata": {
        "id": "Zswl7jRtGzkk"
      },
      "source": [
        "def plot_series(time, series, format=\"-\", start=0, end=None):\n",
        "    plt.plot(time[start:end], series[start:end], format)\n",
        "    plt.xlabel(\"Time\")\n",
        "    plt.ylabel(\"Value\")\n",
        "    plt.grid(True)\n",
        "\n",
        "def trend(time, slope=0):\n",
        "    return slope * time\n",
        "\n",
        "def seasonal_pattern(season_time):\n",
        "    \"\"\"Just an arbitrary pattern, you can change it if you wish\"\"\"\n",
        "    return np.where(season_time < 0.4,\n",
        "                    np.cos(season_time * 2 * np.pi),\n",
        "                    1 / np.exp(3 * season_time))\n",
        "\n",
        "def seasonality(time, period, amplitude=1, phase=0):\n",
        "    \"\"\"Repeats the same pattern at each period\"\"\"\n",
        "    season_time = ((time + phase) % period) / period\n",
        "    return amplitude * seasonal_pattern(season_time)\n",
        "\n",
        "def noise(time, noise_level=1, seed=None):\n",
        "    rnd = np.random.RandomState(seed)\n",
        "    return rnd.randn(len(time)) * noise_level\n",
        "\n",
        "time = np.arange(4 * 365 + 1, dtype=\"float32\")\n",
        "baseline = 10\n",
        "series = trend(time, 0.1)  \n",
        "baseline = 10\n",
        "amplitude = 40\n",
        "slope = 0.05\n",
        "noise_level = 5\n",
        "\n",
        "# Create the series\n",
        "series = baseline + trend(time, slope) + seasonality(time, period=365, amplitude=amplitude)\n",
        "# Update with noise\n",
        "series += noise(time, noise_level, seed=42)\n",
        "\n",
        "split_time = 1000\n",
        "time_train = time[:split_time]\n",
        "x_train = series[:split_time]\n",
        "time_valid = time[split_time:]\n",
        "x_valid = series[split_time:]\n",
        "\n",
        "window_size = 20\n",
        "batch_size = 32\n",
        "shuffle_buffer_size = 1000"
      ],
      "execution_count": 3,
      "outputs": []
    },
    {
      "cell_type": "code",
      "metadata": {
        "id": "4sTTIOCbyShY"
      },
      "source": [
        "def windowed_dataset(series, window_size, batch_size, shuffle_buffer):\n",
        "  dataset = tf.data.Dataset.from_tensor_slices(series)\n",
        "  dataset = dataset.window(window_size + 1, shift=1, drop_remainder=True)\n",
        "  dataset = dataset.flat_map(lambda window: window.batch(window_size + 1))\n",
        "  dataset = dataset.shuffle(shuffle_buffer).map(lambda window: (window[:-1], window[-1]))\n",
        "  dataset = dataset.batch(batch_size).prefetch(1)\n",
        "  return dataset"
      ],
      "execution_count": 4,
      "outputs": []
    },
    {
      "cell_type": "code",
      "metadata": {
        "colab": {
          "base_uri": "https://localhost:8080/"
        },
        "id": "ou-WmE2AXu6B",
        "outputId": "b4aa3177-21e4-4cd6-9ec4-02a03d90651b"
      },
      "source": [
        "dataset = windowed_dataset(x_train, window_size, batch_size, shuffle_buffer_size)\n",
        "print(dataset)\n",
        "l0 = tf.keras.layers.Dense(1, input_shape=[window_size])\n",
        "model = tf.keras.models.Sequential([l0])\n",
        "\n",
        "\n",
        "model.compile(loss=\"mse\", optimizer=tf.keras.optimizers.SGD(lr=1e-6, momentum=0.9))\n",
        "model.fit(dataset,epochs=100,verbose=1)\n",
        "\n",
        "print(\"Layer weights {}\".format(l0.get_weights()))\n"
      ],
      "execution_count": 6,
      "outputs": [
        {
          "output_type": "stream",
          "text": [
            "<PrefetchDataset shapes: ((None, None), (None,)), types: (tf.float32, tf.float32)>\n",
            "Epoch 1/100\n",
            "31/31 [==============================] - 0s 3ms/step - loss: 189.0869\n",
            "Epoch 2/100\n",
            "31/31 [==============================] - 0s 3ms/step - loss: 149.6495\n",
            "Epoch 3/100\n",
            "31/31 [==============================] - 0s 3ms/step - loss: 112.3219\n",
            "Epoch 4/100\n",
            "31/31 [==============================] - 0s 2ms/step - loss: 100.7454\n",
            "Epoch 5/100\n",
            "31/31 [==============================] - 0s 3ms/step - loss: 114.9237\n",
            "Epoch 6/100\n",
            "31/31 [==============================] - 0s 3ms/step - loss: 96.7195\n",
            "Epoch 7/100\n",
            "31/31 [==============================] - 0s 2ms/step - loss: 100.3091\n",
            "Epoch 8/100\n",
            "31/31 [==============================] - 0s 3ms/step - loss: 83.1075\n",
            "Epoch 9/100\n",
            "31/31 [==============================] - 0s 3ms/step - loss: 79.9053\n",
            "Epoch 10/100\n",
            "31/31 [==============================] - 0s 3ms/step - loss: 83.5215\n",
            "Epoch 11/100\n",
            "31/31 [==============================] - 0s 3ms/step - loss: 69.4229\n",
            "Epoch 12/100\n",
            "31/31 [==============================] - 0s 2ms/step - loss: 81.1256\n",
            "Epoch 13/100\n",
            "31/31 [==============================] - 0s 3ms/step - loss: 81.9749\n",
            "Epoch 14/100\n",
            "31/31 [==============================] - 0s 3ms/step - loss: 76.8496\n",
            "Epoch 15/100\n",
            "31/31 [==============================] - 0s 3ms/step - loss: 68.5705\n",
            "Epoch 16/100\n",
            "31/31 [==============================] - 0s 3ms/step - loss: 67.4140\n",
            "Epoch 17/100\n",
            "31/31 [==============================] - 0s 3ms/step - loss: 63.5131\n",
            "Epoch 18/100\n",
            "31/31 [==============================] - 0s 3ms/step - loss: 71.3605\n",
            "Epoch 19/100\n",
            "31/31 [==============================] - 0s 3ms/step - loss: 68.7853\n",
            "Epoch 20/100\n",
            "31/31 [==============================] - 0s 3ms/step - loss: 79.5881\n",
            "Epoch 21/100\n",
            "31/31 [==============================] - 0s 3ms/step - loss: 57.6098\n",
            "Epoch 22/100\n",
            "31/31 [==============================] - 0s 3ms/step - loss: 59.9917\n",
            "Epoch 23/100\n",
            "31/31 [==============================] - 0s 3ms/step - loss: 67.5193\n",
            "Epoch 24/100\n",
            "31/31 [==============================] - 0s 3ms/step - loss: 64.6506\n",
            "Epoch 25/100\n",
            "31/31 [==============================] - 0s 2ms/step - loss: 62.2367\n",
            "Epoch 26/100\n",
            "31/31 [==============================] - 0s 3ms/step - loss: 57.1564\n",
            "Epoch 27/100\n",
            "31/31 [==============================] - 0s 3ms/step - loss: 59.7806\n",
            "Epoch 28/100\n",
            "31/31 [==============================] - 0s 3ms/step - loss: 58.6466\n",
            "Epoch 29/100\n",
            "31/31 [==============================] - 0s 3ms/step - loss: 56.9719\n",
            "Epoch 30/100\n",
            "31/31 [==============================] - 0s 3ms/step - loss: 58.1454\n",
            "Epoch 31/100\n",
            "31/31 [==============================] - 0s 3ms/step - loss: 57.1957\n",
            "Epoch 32/100\n",
            "31/31 [==============================] - 0s 3ms/step - loss: 54.4206\n",
            "Epoch 33/100\n",
            "31/31 [==============================] - 0s 2ms/step - loss: 57.0687\n",
            "Epoch 34/100\n",
            "31/31 [==============================] - 0s 3ms/step - loss: 63.0683\n",
            "Epoch 35/100\n",
            "31/31 [==============================] - 0s 3ms/step - loss: 61.9631\n",
            "Epoch 36/100\n",
            "31/31 [==============================] - 0s 3ms/step - loss: 58.0819\n",
            "Epoch 37/100\n",
            "31/31 [==============================] - 0s 3ms/step - loss: 56.9560\n",
            "Epoch 38/100\n",
            "31/31 [==============================] - 0s 3ms/step - loss: 54.9843\n",
            "Epoch 39/100\n",
            "31/31 [==============================] - 0s 3ms/step - loss: 55.7449\n",
            "Epoch 40/100\n",
            "31/31 [==============================] - 0s 3ms/step - loss: 46.2182\n",
            "Epoch 41/100\n",
            "31/31 [==============================] - 0s 3ms/step - loss: 55.2179\n",
            "Epoch 42/100\n",
            "31/31 [==============================] - 0s 2ms/step - loss: 51.5312\n",
            "Epoch 43/100\n",
            "31/31 [==============================] - 0s 3ms/step - loss: 54.8001\n",
            "Epoch 44/100\n",
            "31/31 [==============================] - 0s 3ms/step - loss: 59.0148\n",
            "Epoch 45/100\n",
            "31/31 [==============================] - 0s 2ms/step - loss: 52.4265\n",
            "Epoch 46/100\n",
            "31/31 [==============================] - 0s 3ms/step - loss: 49.7522\n",
            "Epoch 47/100\n",
            "31/31 [==============================] - 0s 3ms/step - loss: 47.5884\n",
            "Epoch 48/100\n",
            "31/31 [==============================] - 0s 3ms/step - loss: 45.8798\n",
            "Epoch 49/100\n",
            "31/31 [==============================] - 0s 4ms/step - loss: 50.2449\n",
            "Epoch 50/100\n",
            "31/31 [==============================] - 0s 4ms/step - loss: 52.8648\n",
            "Epoch 51/100\n",
            "31/31 [==============================] - 0s 3ms/step - loss: 51.2302\n",
            "Epoch 52/100\n",
            "31/31 [==============================] - 0s 3ms/step - loss: 45.7642\n",
            "Epoch 53/100\n",
            "31/31 [==============================] - 0s 3ms/step - loss: 51.2037\n",
            "Epoch 54/100\n",
            "31/31 [==============================] - 0s 3ms/step - loss: 42.2651\n",
            "Epoch 55/100\n",
            "31/31 [==============================] - 0s 3ms/step - loss: 45.7463\n",
            "Epoch 56/100\n",
            "31/31 [==============================] - 0s 3ms/step - loss: 47.0396\n",
            "Epoch 57/100\n",
            "31/31 [==============================] - 0s 3ms/step - loss: 48.4200\n",
            "Epoch 58/100\n",
            "31/31 [==============================] - 0s 3ms/step - loss: 47.0936\n",
            "Epoch 59/100\n",
            "31/31 [==============================] - 0s 3ms/step - loss: 49.6492\n",
            "Epoch 60/100\n",
            "31/31 [==============================] - 0s 3ms/step - loss: 48.9794\n",
            "Epoch 61/100\n",
            "31/31 [==============================] - 0s 2ms/step - loss: 50.4295\n",
            "Epoch 62/100\n",
            "31/31 [==============================] - 0s 3ms/step - loss: 48.6747\n",
            "Epoch 63/100\n",
            "31/31 [==============================] - 0s 3ms/step - loss: 45.3020\n",
            "Epoch 64/100\n",
            "31/31 [==============================] - 0s 3ms/step - loss: 51.9869\n",
            "Epoch 65/100\n",
            "31/31 [==============================] - 0s 3ms/step - loss: 53.6779\n",
            "Epoch 66/100\n",
            "31/31 [==============================] - 0s 3ms/step - loss: 46.9222\n",
            "Epoch 67/100\n",
            "31/31 [==============================] - 0s 3ms/step - loss: 48.9699\n",
            "Epoch 68/100\n",
            "31/31 [==============================] - 0s 4ms/step - loss: 46.0413\n",
            "Epoch 69/100\n",
            "31/31 [==============================] - 0s 3ms/step - loss: 55.3585\n",
            "Epoch 70/100\n",
            "31/31 [==============================] - 0s 2ms/step - loss: 54.3699\n",
            "Epoch 71/100\n",
            "31/31 [==============================] - 0s 3ms/step - loss: 41.9980\n",
            "Epoch 72/100\n",
            "31/31 [==============================] - 0s 3ms/step - loss: 42.9957\n",
            "Epoch 73/100\n",
            "31/31 [==============================] - 0s 3ms/step - loss: 45.9596\n",
            "Epoch 74/100\n",
            "31/31 [==============================] - 0s 4ms/step - loss: 53.0975\n",
            "Epoch 75/100\n",
            "31/31 [==============================] - 0s 3ms/step - loss: 38.0488\n",
            "Epoch 76/100\n",
            "31/31 [==============================] - 0s 3ms/step - loss: 43.8708\n",
            "Epoch 77/100\n",
            "31/31 [==============================] - 0s 3ms/step - loss: 42.6829\n",
            "Epoch 78/100\n",
            "31/31 [==============================] - 0s 3ms/step - loss: 44.9680\n",
            "Epoch 79/100\n",
            "31/31 [==============================] - 0s 3ms/step - loss: 44.8565\n",
            "Epoch 80/100\n",
            "31/31 [==============================] - 0s 2ms/step - loss: 47.0110\n",
            "Epoch 81/100\n",
            "31/31 [==============================] - 0s 3ms/step - loss: 42.6142\n",
            "Epoch 82/100\n",
            "31/31 [==============================] - 0s 2ms/step - loss: 46.2527\n",
            "Epoch 83/100\n",
            "31/31 [==============================] - 0s 3ms/step - loss: 42.8066\n",
            "Epoch 84/100\n",
            "31/31 [==============================] - 0s 3ms/step - loss: 47.9458\n",
            "Epoch 85/100\n",
            "31/31 [==============================] - 0s 4ms/step - loss: 53.0809\n",
            "Epoch 86/100\n",
            "31/31 [==============================] - 0s 3ms/step - loss: 46.5136\n",
            "Epoch 87/100\n",
            "31/31 [==============================] - 0s 3ms/step - loss: 52.5491\n",
            "Epoch 88/100\n",
            "31/31 [==============================] - 0s 3ms/step - loss: 47.0278\n",
            "Epoch 89/100\n",
            "31/31 [==============================] - 0s 3ms/step - loss: 39.6272\n",
            "Epoch 90/100\n",
            "31/31 [==============================] - 0s 4ms/step - loss: 48.7621\n",
            "Epoch 91/100\n",
            "31/31 [==============================] - 0s 3ms/step - loss: 41.3541\n",
            "Epoch 92/100\n",
            "31/31 [==============================] - 0s 2ms/step - loss: 45.3519\n",
            "Epoch 93/100\n",
            "31/31 [==============================] - 0s 4ms/step - loss: 43.3493\n",
            "Epoch 94/100\n",
            "31/31 [==============================] - 0s 2ms/step - loss: 46.0943\n",
            "Epoch 95/100\n",
            "31/31 [==============================] - 0s 3ms/step - loss: 38.0398\n",
            "Epoch 96/100\n",
            "31/31 [==============================] - 0s 3ms/step - loss: 47.2644\n",
            "Epoch 97/100\n",
            "31/31 [==============================] - 0s 3ms/step - loss: 40.6978\n",
            "Epoch 98/100\n",
            "31/31 [==============================] - 0s 4ms/step - loss: 44.1953\n",
            "Epoch 99/100\n",
            "31/31 [==============================] - 0s 3ms/step - loss: 48.9478\n",
            "Epoch 100/100\n",
            "31/31 [==============================] - 0s 3ms/step - loss: 42.4940\n",
            "Layer weights [array([[-0.09642794],\n",
            "       [ 0.07984399],\n",
            "       [-0.03825068],\n",
            "       [ 0.03136658],\n",
            "       [ 0.0455699 ],\n",
            "       [ 0.00205157],\n",
            "       [-0.0464071 ],\n",
            "       [ 0.10305436],\n",
            "       [-0.12877288],\n",
            "       [ 0.01767699],\n",
            "       [ 0.02194978],\n",
            "       [ 0.0505164 ],\n",
            "       [-0.09458134],\n",
            "       [ 0.09075364],\n",
            "       [-0.06230721],\n",
            "       [ 0.08873638],\n",
            "       [ 0.05149457],\n",
            "       [ 0.1723319 ],\n",
            "       [ 0.27958512],\n",
            "       [ 0.42179003]], dtype=float32), array([0.01721229], dtype=float32)]\n"
          ],
          "name": "stdout"
        }
      ]
    },
    {
      "cell_type": "code",
      "metadata": {
        "colab": {
          "base_uri": "https://localhost:8080/",
          "height": 388
        },
        "id": "-gtVJuLVxR-M",
        "outputId": "6ee434d1-0404-403b-9b63-91902854668d"
      },
      "source": [
        "forecast = []\n",
        "\n",
        "for time in range(len(series) - window_size):\n",
        "  forecast.append(model.predict(series[time:time + window_size][np.newaxis]))\n",
        "\n",
        "forecast = forecast[split_time-window_size:]\n",
        "results = np.array(forecast)[:, 0, 0]\n",
        "\n",
        "\n",
        "plt.figure(figsize=(10, 6))\n",
        "\n",
        "plot_series(time_valid, x_valid)\n",
        "plot_series(time_valid, results)"
      ],
      "execution_count": 7,
      "outputs": [
        {
          "output_type": "display_data",
          "data": {
            "image/png": "[encoded data removed]",
            "text/plain": [
              "<Figure size 720x432 with 1 Axes>"
            ]
          },
          "metadata": {
            "tags": [],
            "needs_background": "light"
          }
        }
      ]
    },
    {
      "cell_type": "code",
      "metadata": {
        "colab": {
          "base_uri": "https://localhost:8080/"
        },
        "id": "hR2BO0Dai_ZT",
        "outputId": "147684ca-5743-4f14-d6cb-e5c050a7b4b7"
      },
      "source": [
        "tf.keras.metrics.mean_absolute_error(x_valid, results).numpy()"
      ],
      "execution_count": 8,
      "outputs": [
        {
          "output_type": "execute_result",
          "data": {
            "text/plain": [
              "5.0756006"
            ]
          },
          "metadata": {
            "tags": []
          },
          "execution_count": 8
        }
      ]
    }
  ]
}